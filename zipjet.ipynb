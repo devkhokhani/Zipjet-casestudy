{
 "cells": [
  {
   "cell_type": "code",
   "execution_count": null,
   "metadata": {
    "collapsed": true
   },
   "outputs": [],
   "source": [
    "import numpy as np\n",
    "import pandas as pd\n",
    "import sklearn as sk\n",
    "import time\n",
    "import datetime"
   ]
  },
  {
   "cell_type": "code",
   "execution_count": null,
   "metadata": {
    "collapsed": true
   },
   "outputs": [],
   "source": [
    "data= pd.read_csv('C:/Users/Devanshu/Desktop/DataScienceIntern_test_case/zipjet_test_case/orders.csv', sep=',',header=0)"
   ]
  },
  {
   "attachments": {},
   "cell_type": "markdown",
   "metadata": {},
   "source": [
    "Average calculation is done based on the summation of revenue by total number of orders done by customer. Code shown below writes output to file where following features are written: 1- customer_id,2- Total_rev,3- no_order,4- AOV. \n",
    "\n",
    "Total_rev= Gross revenue from each customer.\n",
    "no_order= Total number of order from each customer.\n",
    "AOV= Average revenue from each customer.\n",
    "\n",
    "Task 1 and 2 are solved from one code cell only."
   ]
  },
  {
   "cell_type": "code",
   "execution_count": null,
   "metadata": {},
   "outputs": [],
   "source": [
    "# Average calculation per customer\n",
    "\n",
    "def average():\n",
    "    average.custo_id=[]\n",
    "    average.full=[]\n",
    "    for i in data.customer :\n",
    "        total_rev= data.revenue[data.customer== i].sum()\n",
    "        total_order= len(data.order[data.customer== i])\n",
    "        AOV= total_rev/total_order\n",
    "        combined_value=([i,total_rev,total_order,AOV])\n",
    "        print(i,total_rev,total_order,AOV)\n",
    "        if i not in average.custo_id:\n",
    "            average.custo_id.append(i)\n",
    "            average.full.append(combined_value)\n",
    "average()\n",
    "np.savetxt('C:/Users/Devanshu/Desktop/DataScienceIntern_test_case/zipjet_test_case/data_per_customer.csv', average.full,delimiter=',',header=\"customer_id,total_rev,total_no_order,AOV\",fmt=\"%i\",comments='')"
   ]
  },
  {
   "cell_type": "markdown",
   "metadata": {},
   "source": [
    "Task 3: Plot AOV vs order levels per city.\n",
    "\n",
    "Here The AOV and total no of order for each city are calculated by splilting order section to only city initial."
   ]
  },
  {
   "cell_type": "code",
   "execution_count": null,
   "metadata": {},
   "outputs": [],
   "source": [
    "# Splitting order based on city initial\n",
    "\n",
    "new_df= data\n",
    "split= new_df.order.str.split('-',expand=True)\n",
    "new_df2= pd.DataFrame({'order': split[0]})\n",
    "new_df.update(new_df2, overwrite= True)\n",
    "\n",
    "total_rev= new_df.groupby(['order'], as_index=False).revenue.sum()\n",
    "print('Total revenue of DE',total_rev.revenue[0],'Total revenue of FR',total_rev.revenue[1],'Total revenue of GB',total_rev.revenue[2])\n",
    "\n",
    "uni_city,uni_city_count = np.unique([new_df.order], return_counts= True)\n",
    "print('city:',uni_city,'Total no of orders per city:',uni_city_count)\n",
    "\n",
    "aov= []\n",
    "\n",
    "aov.append(total_rev.revenue[0] / uni_city_count[0])\n",
    "aov.append(total_rev.revenue[1] / uni_city_count[1])\n",
    "aov.append(total_rev.revenue[2] / uni_city_count[2])\n",
    "\n",
    "print('Avg revenue per city',aov)"
   ]
  },
  {
   "cell_type": "code",
   "execution_count": null,
   "metadata": {},
   "outputs": [],
   "source": [
    "import matplotlib.pyplot as plt\n",
    "import numpy as np\n",
    " \n",
    "fig, ax= plt.subplots()\n",
    "ax.bar(aov[0], uni_city_count[0], label='DE')\n",
    "ax.bar(aov[1], uni_city_count[1], label='FR')\n",
    "ax.bar(aov[2], uni_city_count[2], label='GB')\n",
    "\n",
    "ax.set_ylabel('no of orders')\n",
    "ax.set_xlabel('AOV')\n",
    "ax.set_title('AOV vs order levels per city')\n",
    "\n",
    "legend = ax.legend(loc='upper center', shadow=True, fontsize='small')\n",
    "plt.show()"
   ]
  },
  {
   "cell_type": "code",
   "execution_count": null,
   "metadata": {},
   "outputs": [],
   "source": [
    "import matplotlib.pyplot as plt\n",
    " \n",
    "# Data to plot\n",
    "labels = 'DE', 'FR', 'GB'\n",
    "sizes = [pop1, pop2, pop3]\n",
    "colors = ['gold', 'yellowgreen', 'lightcoral']\n",
    "explode = (0.1, 0.1, 0.1)\n",
    " \n",
    "# Plot\n",
    "plt.pie(sizes, explode=explode, labels=labels, colors=colors,\n",
    "        autopct='%1.1f%%', shadow=True, startangle=140)\n",
    " \n",
    "plt.axis('equal')\n",
    "plt.show()"
   ]
  },
  {
   "cell_type": "markdown",
   "metadata": {},
   "source": [
    "AOV vs Order per city suffices that even though the number of order in 'DE' are more compared to 'FR' but the customers of 'FR' access services with high value for example if there is a service for washing and pressing Suits with high prices then 'FR' customers are preferring them compared to 'DE' who places for orders with regular clothes which is low on pricing. "
   ]
  },
  {
   "cell_type": "markdown",
   "metadata": {
    "collapsed": true
   },
   "source": [
    "Task 4: Create four clusters using AOV and order levels per operating city and visualize them:\n",
    "\n",
    "segment 1 : customers that placed few orders with low AOV\n",
    "segment 2 : customers that placed few orders with high AOV\n",
    "segment 3 : customers that placed many orders with low AOV\n",
    "segment 4 : customers that placed many orders with high AOV.\n"
   ]
  },
  {
   "cell_type": "code",
   "execution_count": null,
   "metadata": {
    "collapsed": true
   },
   "outputs": [],
   "source": [
    "# Load data from file created during calculating avg and total no of orders for each individual\n",
    "customer_data= pd.read_csv('C:/Users/Devanshu/Desktop/DataScienceIntern_test_case/zipjet_test_case/data_per_customer.csv',sep=',',header=0)\n",
    "\n",
    "#method defined for creating clusters\n",
    "def cluster1() :\n",
    "    # Segment are array having customer id when processed through loop\n",
    "    cluster1.segment1=[] #low order :low AOV\n",
    "    cluster1.segment2=[] #low order :High AOV\n",
    "    cluster1.segment3=[] #high order :low AOV\n",
    "    cluster1.segment4=[] #high order :High AOV\n",
    "    \n",
    "    # Mean value from total AOV values including all unique customers. Standard deviation is another option to categorize customers \n",
    "    mean_aov=customer_data.AOV.mean()\n",
    "    \n",
    "    # Min values for orders are decided by user and can also be divide by mean of orders but it fails at number of occasion for this case\n",
    "    min_order=5\n",
    "\n",
    "    for i in customer_data.customer_id :\n",
    "        fr1= customer_data.total_no_order[customer_data.customer_id == i]\n",
    "        fr2= customer_data.AOV[customer_data.customer_id == i]\n",
    "        print('customer_id',i)\n",
    "        for j in fr1:\n",
    "            print('value of j',j)\n",
    "            print('customer_order',fr1)\n",
    "            for k in fr2 :\n",
    "                print('customer_AOV',fr2)\n",
    "                if j <= min_order and k <= mean_aov :\n",
    "                    cluster1.segment1.append(i)\n",
    "                elif j <= min_order and k >= mean_aov :\n",
    "                    cluster1.segment2.append(i)\n",
    "                elif j > min_order and k <= mean_aov :\n",
    "                    cluster1.segment3.append(i)\n",
    "                elif j > min_order and k >= mean_aov :\n",
    "                    cluster1.segment4.append(i)\n",
    "                \n",
    "        \n",
    "cluster1()"
   ]
  },
  {
   "cell_type": "markdown",
   "metadata": {},
   "source": [
    "To visualize how effective a particular cluster we have to calculate total revenue from each cluster so that we can justify the importance of a cluster in each group of clusters."
   ]
  },
  {
   "cell_type": "code",
   "execution_count": null,
   "metadata": {},
   "outputs": [],
   "source": [
    "# Calculate total avg revenue from each cluster\n",
    "# Load data from file created during calculating avg and total no of orders for each individual\n",
    "customer_data= pd.read_csv('C:/Users/Devanshu/Desktop/DataScienceIntern_test_case/zipjet_test_case/data_per_customer.csv',sep=',',header=0)\n",
    "\n",
    "def internal_aov():\n",
    "    \n",
    "    internal_aov.summation1=0\n",
    "    internal_aov.summation2=0\n",
    "    internal_aov.summation3=0\n",
    "    internal_aov.summation4=0\n",
    "    \n",
    "    for i in cluster1.segment1 :\n",
    "        th1= customer_data.AOV[customer_data.customer_id==i]\n",
    "        for j in th1 :\n",
    "            internal_aov.summation1=internal_aov.summation1+j \n",
    "    for k in cluster1.segment2:\n",
    "        th2= customer_data.AOV[customer_data.customer_id==k]\n",
    "        for l in th2 :\n",
    "            internal_aov.summation2=internal_aov.summation2+l \n",
    "    for m in cluster1.segment3:\n",
    "        th3= customer_data.AOV[customer_data.customer_id==m]\n",
    "        for n in th3 :\n",
    "            internal_aov.summation3=internal_aov.summation3+n \n",
    "    for o in cluster1.segment4:\n",
    "        th4= customer_data.AOV[customer_data.customer_id==o]\n",
    "        for p in th4 :\n",
    "            internal_aov.summation4=internal_aov.summation4+p \n",
    "\n",
    "internal_aov()\n",
    "total_rev_from_data= sum(customer_data.AOV)"
   ]
  },
  {
   "cell_type": "markdown",
   "metadata": {},
   "source": [
    "The graph below whows how is the performance of each cluster compared to revenue from highest cluster."
   ]
  },
  {
   "cell_type": "code",
   "execution_count": null,
   "metadata": {
    "collapsed": true
   },
   "outputs": [],
   "source": [
    "import matplotlib.pyplot as plt; plt.rcdefaults()\n",
    "import numpy as np\n",
    "import matplotlib.pyplot as plt\n",
    "\n",
    "fig, ax = plt.subplots()\n",
    "objects = ('Cluster1', 'Cluster2', 'Cluster3', 'Cluster4')\n",
    "y_pos = np.arange(len(objects))\n",
    "performance = [internal_aov.summation1,internal_aov.summation2,internal_aov.summation3,internal_aov.summation4]\n",
    "plt.bar(y_pos, performance,color=['blue','red','pink','yellow'] ,align='center', alpha=0.5)\n",
    "plt.xticks(y_pos, objects)\n",
    "plt.ylabel('Summed revenue per cluster')\n",
    "plt.title('Total revenue based on cluster')\n",
    "plt.show()"
   ]
  },
  {
   "cell_type": "code",
   "execution_count": null,
   "metadata": {},
   "outputs": [],
   "source": []
  },
  {
   "cell_type": "code",
   "execution_count": null,
   "metadata": {},
   "outputs": [],
   "source": []
  },
  {
   "cell_type": "markdown",
   "metadata": {},
   "source": [
    "Task 5. Assign marketing channel to customer based on his/her first order\n",
    "\n",
    "Here I have sorted data based on datetime so that for each customer we have there first date of order at first place."
   ]
  },
  {
   "cell_type": "code",
   "execution_count": null,
   "metadata": {
    "collapsed": true
   },
   "outputs": [],
   "source": [
    "# assigning marketing channel\n",
    "\n",
    "channel= data\n",
    "\n",
    "channel['order_created_datetime'] =pd.to_datetime(channel.order_created_datetime)\n",
    "ch= channel.sort_values('order_created_datetime')\n",
    "\n",
    "def channel_set ():\n",
    "    channel_set.customer=[]\n",
    "    channel_set.customer_channel= []\n",
    "    for i in ch.customer:\n",
    "        \n",
    "        if i not in channel_set.customer:\n",
    "            channel_set.customer.append(i)\n",
    "            acv= ch.market_channel[ch.customer==i]\n",
    "            combi= ([i,acv])\n",
    "            \n",
    "            channel_set.customer_channel.append(combi)\n",
    "channel_set()\n",
    "np.savetxt('C:/Users/Devanshu/Desktop/DataScienceIntern_test_case/zipjet_test_case/Customer_Channel.csv', channel_set.customer_channel,delimiter=',',fmt='%5s',header=\"Customer_channel\",comments='')"
   ]
  },
  {
   "cell_type": "markdown",
   "metadata": {},
   "source": [
    "Task 7. Calculate frequency (average interval in days between orders) per customer\n",
    "\n",
    "Frequency is calculated based on days difference between first and last date of order and during that span how many orders we placed by the customer."
   ]
  },
  {
   "cell_type": "code",
   "execution_count": null,
   "metadata": {},
   "outputs": [],
   "source": [
    "# Frequent customer order patter\n",
    "freq1= data\n",
    "freq1['order_created_datetime'] =pd.to_datetime(freq1.order_created_datetime)\n",
    "freq1['order_created_datetime']= [d.date() for d in freq1['order_created_datetime']]\n",
    "freq2= freq1.sort_values(by='order_created_datetime')\n",
    "\n",
    "freq2=freq2.reset_index(drop=True)\n",
    "\n",
    "def frequency_customer():\n",
    "    frequency_customer.customer=[] \n",
    "    frequency_customer.gaps=[]\n",
    "    frequency_customer.gaps_customer=[]\n",
    "    uni_freq = pd.unique(freq2.customer)\n",
    "    for i in uni_freq :\n",
    "        adf= freq2.order_created_datetime[freq2.customer==i].values\n",
    "        date_min= min(adf)\n",
    "        date_max= max(adf)\n",
    "        gaps= date_max- date_min\n",
    "        order_num= len(freq2.order_created_datetime[freq2.customer==i].values)\n",
    "        frequency_of_customer= (gaps/order_num)\n",
    "        if i not in frequency_customer.customer :\n",
    "            frequency_customer.customer.append(i)\n",
    "            frequency_customer.gaps.append(gaps)\n",
    "            frequency_customer.gaps_customer.append(frequency_of_customer)\n",
    "            #print(gaps)\n",
    "\n",
    "frequency_customer()\n",
    "np.savetxt('C:/Users/Devanshu/Desktop/DataScienceIntern_test_case/zipjet_test_case/Customer_frequency.csv', frequency_customer.gaps_customer,delimiter=',',fmt='%5s',header=\"frequency\",comments='')"
   ]
  }
 ],
 "metadata": {
  "kernelspec": {
   "display_name": "Python 3",
   "language": "python",
   "name": "python3"
  },
  "language_info": {
   "codemirror_mode": {
    "name": "ipython",
    "version": 3
   },
   "file_extension": ".py",
   "mimetype": "text/x-python",
   "name": "python",
   "nbconvert_exporter": "python",
   "pygments_lexer": "ipython3",
   "version": "3.6.1"
  }
 },
 "nbformat": 4,
 "nbformat_minor": 2
}
